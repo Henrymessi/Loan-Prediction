{
  "nbformat": 4,
  "nbformat_minor": 0,
  "metadata": {
    "colab": {
      "provenance": []
    },
    "kernelspec": {
      "name": "python3",
      "display_name": "Python 3"
    },
    "language_info": {
      "name": "python"
    }
  },
  "cells": [
    {
      "cell_type": "code",
      "execution_count": 1,
      "metadata": {
        "id": "XS0m9OAzehwK"
      },
      "outputs": [],
      "source": [
        "import numpy as np\n",
        "import pandas as pd\n",
        "\n",
        "import matplotlib.pyplot as plt\n",
        "import seaborn as sns"
      ]
    },
    {
      "cell_type": "code",
      "source": [
        "df = pd.read_csv('/content/sample_data/Loan_dataset.csv')\n",
        "df.head(5)"
      ],
      "metadata": {
        "colab": {
          "base_uri": "https://localhost:8080/",
          "height": 424
        },
        "id": "nsBCWr6ofFLD",
        "outputId": "4d58246f-e2e9-4043-a902-5db164432a36"
      },
      "execution_count": 2,
      "outputs": [
        {
          "output_type": "execute_result",
          "data": {
            "text/plain": [
              "   S/N.  Gender   Branch           Region      Status  \\\n",
              "0   1.0  Female  Yaba II  Mainland Region  Performing   \n",
              "1   2.0  Female   Bariga    Island Region  Performing   \n",
              "2   3.0  Female   Mushin  Mainland Region  Performing   \n",
              "3   4.0    Male     Yaba  Mainland Region  Performing   \n",
              "4   5.0  Female   Ikotun  Mainland Region  Performing   \n",
              "\n",
              "            Economic_Sector                                   Product  \\\n",
              "0    Other(Assorted Drinks)  (MSBS) MAINSTREET SAVE 'N BORROW SPECIAL   \n",
              "1         Other(PROVISIONS)    (MSBB) MAINSTREET SAVE 'N BORROW BASIC   \n",
              "2         Other(PROVISIONS)    (MSBB) MAINSTREET SAVE 'N BORROW BASIC   \n",
              "3  Other(Textile Materials)    (MSBB) MAINSTREET SAVE 'N BORROW BASIC   \n",
              "4             Other(Drinks)    (MSBB) MAINSTREET SAVE 'N BORROW BASIC   \n",
              "\n",
              "  Loan_Amount                                 Collateral Collateral_Value  \\\n",
              "0  500,000.00             TV, FRIDGE, GENERATOR, FREEZER       550,000.00   \n",
              "1  400,000.00  Freezer, Generator, Fridge and Television       450,000.00   \n",
              "2  200,000.00                      GENERATOR, TV, FRIDGE       250,000.00   \n",
              "3  100,000.00                              GENERATOR, TV       120,000.00   \n",
              "4   50,000.00                              GENERATOR, TV       100,000.00   \n",
              "\n",
              "   Tenure  Interest_Rate  \n",
              "0    90.0           42.0  \n",
              "1    60.0           42.0  \n",
              "2    90.0           42.0  \n",
              "3    30.0           42.0  \n",
              "4    30.0           42.0  "
            ],
            "text/html": [
              "\n",
              "  <div id=\"df-72f0c060-e99c-43ca-89b3-6ed53000d3e1\">\n",
              "    <div class=\"colab-df-container\">\n",
              "      <div>\n",
              "<style scoped>\n",
              "    .dataframe tbody tr th:only-of-type {\n",
              "        vertical-align: middle;\n",
              "    }\n",
              "\n",
              "    .dataframe tbody tr th {\n",
              "        vertical-align: top;\n",
              "    }\n",
              "\n",
              "    .dataframe thead th {\n",
              "        text-align: right;\n",
              "    }\n",
              "</style>\n",
              "<table border=\"1\" class=\"dataframe\">\n",
              "  <thead>\n",
              "    <tr style=\"text-align: right;\">\n",
              "      <th></th>\n",
              "      <th>S/N.</th>\n",
              "      <th>Gender</th>\n",
              "      <th>Branch</th>\n",
              "      <th>Region</th>\n",
              "      <th>Status</th>\n",
              "      <th>Economic_Sector</th>\n",
              "      <th>Product</th>\n",
              "      <th>Loan_Amount</th>\n",
              "      <th>Collateral</th>\n",
              "      <th>Collateral_Value</th>\n",
              "      <th>Tenure</th>\n",
              "      <th>Interest_Rate</th>\n",
              "    </tr>\n",
              "  </thead>\n",
              "  <tbody>\n",
              "    <tr>\n",
              "      <th>0</th>\n",
              "      <td>1.0</td>\n",
              "      <td>Female</td>\n",
              "      <td>Yaba II</td>\n",
              "      <td>Mainland Region</td>\n",
              "      <td>Performing</td>\n",
              "      <td>Other(Assorted Drinks)</td>\n",
              "      <td>(MSBS) MAINSTREET SAVE 'N BORROW SPECIAL</td>\n",
              "      <td>500,000.00</td>\n",
              "      <td>TV, FRIDGE, GENERATOR, FREEZER</td>\n",
              "      <td>550,000.00</td>\n",
              "      <td>90.0</td>\n",
              "      <td>42.0</td>\n",
              "    </tr>\n",
              "    <tr>\n",
              "      <th>1</th>\n",
              "      <td>2.0</td>\n",
              "      <td>Female</td>\n",
              "      <td>Bariga</td>\n",
              "      <td>Island Region</td>\n",
              "      <td>Performing</td>\n",
              "      <td>Other(PROVISIONS)</td>\n",
              "      <td>(MSBB) MAINSTREET SAVE 'N BORROW BASIC</td>\n",
              "      <td>400,000.00</td>\n",
              "      <td>Freezer, Generator, Fridge and Television</td>\n",
              "      <td>450,000.00</td>\n",
              "      <td>60.0</td>\n",
              "      <td>42.0</td>\n",
              "    </tr>\n",
              "    <tr>\n",
              "      <th>2</th>\n",
              "      <td>3.0</td>\n",
              "      <td>Female</td>\n",
              "      <td>Mushin</td>\n",
              "      <td>Mainland Region</td>\n",
              "      <td>Performing</td>\n",
              "      <td>Other(PROVISIONS)</td>\n",
              "      <td>(MSBB) MAINSTREET SAVE 'N BORROW BASIC</td>\n",
              "      <td>200,000.00</td>\n",
              "      <td>GENERATOR, TV, FRIDGE</td>\n",
              "      <td>250,000.00</td>\n",
              "      <td>90.0</td>\n",
              "      <td>42.0</td>\n",
              "    </tr>\n",
              "    <tr>\n",
              "      <th>3</th>\n",
              "      <td>4.0</td>\n",
              "      <td>Male</td>\n",
              "      <td>Yaba</td>\n",
              "      <td>Mainland Region</td>\n",
              "      <td>Performing</td>\n",
              "      <td>Other(Textile Materials)</td>\n",
              "      <td>(MSBB) MAINSTREET SAVE 'N BORROW BASIC</td>\n",
              "      <td>100,000.00</td>\n",
              "      <td>GENERATOR, TV</td>\n",
              "      <td>120,000.00</td>\n",
              "      <td>30.0</td>\n",
              "      <td>42.0</td>\n",
              "    </tr>\n",
              "    <tr>\n",
              "      <th>4</th>\n",
              "      <td>5.0</td>\n",
              "      <td>Female</td>\n",
              "      <td>Ikotun</td>\n",
              "      <td>Mainland Region</td>\n",
              "      <td>Performing</td>\n",
              "      <td>Other(Drinks)</td>\n",
              "      <td>(MSBB) MAINSTREET SAVE 'N BORROW BASIC</td>\n",
              "      <td>50,000.00</td>\n",
              "      <td>GENERATOR, TV</td>\n",
              "      <td>100,000.00</td>\n",
              "      <td>30.0</td>\n",
              "      <td>42.0</td>\n",
              "    </tr>\n",
              "  </tbody>\n",
              "</table>\n",
              "</div>\n",
              "      <button class=\"colab-df-convert\" onclick=\"convertToInteractive('df-72f0c060-e99c-43ca-89b3-6ed53000d3e1')\"\n",
              "              title=\"Convert this dataframe to an interactive table.\"\n",
              "              style=\"display:none;\">\n",
              "        \n",
              "  <svg xmlns=\"http://www.w3.org/2000/svg\" height=\"24px\"viewBox=\"0 0 24 24\"\n",
              "       width=\"24px\">\n",
              "    <path d=\"M0 0h24v24H0V0z\" fill=\"none\"/>\n",
              "    <path d=\"M18.56 5.44l.94 2.06.94-2.06 2.06-.94-2.06-.94-.94-2.06-.94 2.06-2.06.94zm-11 1L8.5 8.5l.94-2.06 2.06-.94-2.06-.94L8.5 2.5l-.94 2.06-2.06.94zm10 10l.94 2.06.94-2.06 2.06-.94-2.06-.94-.94-2.06-.94 2.06-2.06.94z\"/><path d=\"M17.41 7.96l-1.37-1.37c-.4-.4-.92-.59-1.43-.59-.52 0-1.04.2-1.43.59L10.3 9.45l-7.72 7.72c-.78.78-.78 2.05 0 2.83L4 21.41c.39.39.9.59 1.41.59.51 0 1.02-.2 1.41-.59l7.78-7.78 2.81-2.81c.8-.78.8-2.07 0-2.86zM5.41 20L4 18.59l7.72-7.72 1.47 1.35L5.41 20z\"/>\n",
              "  </svg>\n",
              "      </button>\n",
              "      \n",
              "  <style>\n",
              "    .colab-df-container {\n",
              "      display:flex;\n",
              "      flex-wrap:wrap;\n",
              "      gap: 12px;\n",
              "    }\n",
              "\n",
              "    .colab-df-convert {\n",
              "      background-color: #E8F0FE;\n",
              "      border: none;\n",
              "      border-radius: 50%;\n",
              "      cursor: pointer;\n",
              "      display: none;\n",
              "      fill: #1967D2;\n",
              "      height: 32px;\n",
              "      padding: 0 0 0 0;\n",
              "      width: 32px;\n",
              "    }\n",
              "\n",
              "    .colab-df-convert:hover {\n",
              "      background-color: #E2EBFA;\n",
              "      box-shadow: 0px 1px 2px rgba(60, 64, 67, 0.3), 0px 1px 3px 1px rgba(60, 64, 67, 0.15);\n",
              "      fill: #174EA6;\n",
              "    }\n",
              "\n",
              "    [theme=dark] .colab-df-convert {\n",
              "      background-color: #3B4455;\n",
              "      fill: #D2E3FC;\n",
              "    }\n",
              "\n",
              "    [theme=dark] .colab-df-convert:hover {\n",
              "      background-color: #434B5C;\n",
              "      box-shadow: 0px 1px 3px 1px rgba(0, 0, 0, 0.15);\n",
              "      filter: drop-shadow(0px 1px 2px rgba(0, 0, 0, 0.3));\n",
              "      fill: #FFFFFF;\n",
              "    }\n",
              "  </style>\n",
              "\n",
              "      <script>\n",
              "        const buttonEl =\n",
              "          document.querySelector('#df-72f0c060-e99c-43ca-89b3-6ed53000d3e1 button.colab-df-convert');\n",
              "        buttonEl.style.display =\n",
              "          google.colab.kernel.accessAllowed ? 'block' : 'none';\n",
              "\n",
              "        async function convertToInteractive(key) {\n",
              "          const element = document.querySelector('#df-72f0c060-e99c-43ca-89b3-6ed53000d3e1');\n",
              "          const dataTable =\n",
              "            await google.colab.kernel.invokeFunction('convertToInteractive',\n",
              "                                                     [key], {});\n",
              "          if (!dataTable) return;\n",
              "\n",
              "          const docLinkHtml = 'Like what you see? Visit the ' +\n",
              "            '<a target=\"_blank\" href=https://colab.research.google.com/notebooks/data_table.ipynb>data table notebook</a>'\n",
              "            + ' to learn more about interactive tables.';\n",
              "          element.innerHTML = '';\n",
              "          dataTable['output_type'] = 'display_data';\n",
              "          await google.colab.output.renderOutput(dataTable, element);\n",
              "          const docLink = document.createElement('div');\n",
              "          docLink.innerHTML = docLinkHtml;\n",
              "          element.appendChild(docLink);\n",
              "        }\n",
              "      </script>\n",
              "    </div>\n",
              "  </div>\n",
              "  "
            ]
          },
          "metadata": {},
          "execution_count": 2
        }
      ]
    },
    {
      "cell_type": "code",
      "source": [
        "#check all columns in the data frame\n",
        "df.columns.values"
      ],
      "metadata": {
        "colab": {
          "base_uri": "https://localhost:8080/"
        },
        "id": "pQu7ahYofS8h",
        "outputId": "4e066fe8-0447-4a83-8215-2ebeafb615f9"
      },
      "execution_count": 3,
      "outputs": [
        {
          "output_type": "execute_result",
          "data": {
            "text/plain": [
              "array(['S/N.', 'Gender', 'Branch', 'Region', 'Status', 'Economic_Sector',\n",
              "       'Product', 'Loan_Amount', 'Collateral', 'Collateral_Value',\n",
              "       'Tenure', 'Interest_Rate'], dtype=object)"
            ]
          },
          "metadata": {},
          "execution_count": 3
        }
      ]
    },
    {
      "cell_type": "code",
      "source": [
        "#Check total rows and columns\n",
        "df.shape"
      ],
      "metadata": {
        "colab": {
          "base_uri": "https://localhost:8080/"
        },
        "id": "0ZclDEaHfgR_",
        "outputId": "08729081-b248-4137-8580-eb20ce61c057"
      },
      "execution_count": 4,
      "outputs": [
        {
          "output_type": "execute_result",
          "data": {
            "text/plain": [
              "(8651, 12)"
            ]
          },
          "metadata": {},
          "execution_count": 4
        }
      ]
    },
    {
      "cell_type": "markdown",
      "source": [
        "Exploratory Data Analysis"
      ],
      "metadata": {
        "id": "8IU_zTJbfzTQ"
      }
    },
    {
      "cell_type": "code",
      "source": [
        "df.describe()"
      ],
      "metadata": {
        "colab": {
          "base_uri": "https://localhost:8080/",
          "height": 300
        },
        "id": "womm4VYXfptT",
        "outputId": "4afeece9-6921-4819-e7f9-8052ff21274a"
      },
      "execution_count": 5,
      "outputs": [
        {
          "output_type": "execute_result",
          "data": {
            "text/plain": [
              "              S/N.       Tenure  Interest_Rate\n",
              "count  8645.000000   8645.00000    8645.000000\n",
              "mean   4323.000000    684.61631      29.470643\n",
              "std    2495.740872    540.88051      22.545440\n",
              "min       1.000000      8.00000       0.000000\n",
              "25%    2162.000000    486.00000      13.310000\n",
              "50%    4323.000000    670.00000      26.210000\n",
              "75%    6484.000000    789.00000      36.830000\n",
              "max    8645.000000  22218.00000     240.000000"
            ],
            "text/html": [
              "\n",
              "  <div id=\"df-1fbf80e3-cd75-4bf6-91cd-2f368c773480\">\n",
              "    <div class=\"colab-df-container\">\n",
              "      <div>\n",
              "<style scoped>\n",
              "    .dataframe tbody tr th:only-of-type {\n",
              "        vertical-align: middle;\n",
              "    }\n",
              "\n",
              "    .dataframe tbody tr th {\n",
              "        vertical-align: top;\n",
              "    }\n",
              "\n",
              "    .dataframe thead th {\n",
              "        text-align: right;\n",
              "    }\n",
              "</style>\n",
              "<table border=\"1\" class=\"dataframe\">\n",
              "  <thead>\n",
              "    <tr style=\"text-align: right;\">\n",
              "      <th></th>\n",
              "      <th>S/N.</th>\n",
              "      <th>Tenure</th>\n",
              "      <th>Interest_Rate</th>\n",
              "    </tr>\n",
              "  </thead>\n",
              "  <tbody>\n",
              "    <tr>\n",
              "      <th>count</th>\n",
              "      <td>8645.000000</td>\n",
              "      <td>8645.00000</td>\n",
              "      <td>8645.000000</td>\n",
              "    </tr>\n",
              "    <tr>\n",
              "      <th>mean</th>\n",
              "      <td>4323.000000</td>\n",
              "      <td>684.61631</td>\n",
              "      <td>29.470643</td>\n",
              "    </tr>\n",
              "    <tr>\n",
              "      <th>std</th>\n",
              "      <td>2495.740872</td>\n",
              "      <td>540.88051</td>\n",
              "      <td>22.545440</td>\n",
              "    </tr>\n",
              "    <tr>\n",
              "      <th>min</th>\n",
              "      <td>1.000000</td>\n",
              "      <td>8.00000</td>\n",
              "      <td>0.000000</td>\n",
              "    </tr>\n",
              "    <tr>\n",
              "      <th>25%</th>\n",
              "      <td>2162.000000</td>\n",
              "      <td>486.00000</td>\n",
              "      <td>13.310000</td>\n",
              "    </tr>\n",
              "    <tr>\n",
              "      <th>50%</th>\n",
              "      <td>4323.000000</td>\n",
              "      <td>670.00000</td>\n",
              "      <td>26.210000</td>\n",
              "    </tr>\n",
              "    <tr>\n",
              "      <th>75%</th>\n",
              "      <td>6484.000000</td>\n",
              "      <td>789.00000</td>\n",
              "      <td>36.830000</td>\n",
              "    </tr>\n",
              "    <tr>\n",
              "      <th>max</th>\n",
              "      <td>8645.000000</td>\n",
              "      <td>22218.00000</td>\n",
              "      <td>240.000000</td>\n",
              "    </tr>\n",
              "  </tbody>\n",
              "</table>\n",
              "</div>\n",
              "      <button class=\"colab-df-convert\" onclick=\"convertToInteractive('df-1fbf80e3-cd75-4bf6-91cd-2f368c773480')\"\n",
              "              title=\"Convert this dataframe to an interactive table.\"\n",
              "              style=\"display:none;\">\n",
              "        \n",
              "  <svg xmlns=\"http://www.w3.org/2000/svg\" height=\"24px\"viewBox=\"0 0 24 24\"\n",
              "       width=\"24px\">\n",
              "    <path d=\"M0 0h24v24H0V0z\" fill=\"none\"/>\n",
              "    <path d=\"M18.56 5.44l.94 2.06.94-2.06 2.06-.94-2.06-.94-.94-2.06-.94 2.06-2.06.94zm-11 1L8.5 8.5l.94-2.06 2.06-.94-2.06-.94L8.5 2.5l-.94 2.06-2.06.94zm10 10l.94 2.06.94-2.06 2.06-.94-2.06-.94-.94-2.06-.94 2.06-2.06.94z\"/><path d=\"M17.41 7.96l-1.37-1.37c-.4-.4-.92-.59-1.43-.59-.52 0-1.04.2-1.43.59L10.3 9.45l-7.72 7.72c-.78.78-.78 2.05 0 2.83L4 21.41c.39.39.9.59 1.41.59.51 0 1.02-.2 1.41-.59l7.78-7.78 2.81-2.81c.8-.78.8-2.07 0-2.86zM5.41 20L4 18.59l7.72-7.72 1.47 1.35L5.41 20z\"/>\n",
              "  </svg>\n",
              "      </button>\n",
              "      \n",
              "  <style>\n",
              "    .colab-df-container {\n",
              "      display:flex;\n",
              "      flex-wrap:wrap;\n",
              "      gap: 12px;\n",
              "    }\n",
              "\n",
              "    .colab-df-convert {\n",
              "      background-color: #E8F0FE;\n",
              "      border: none;\n",
              "      border-radius: 50%;\n",
              "      cursor: pointer;\n",
              "      display: none;\n",
              "      fill: #1967D2;\n",
              "      height: 32px;\n",
              "      padding: 0 0 0 0;\n",
              "      width: 32px;\n",
              "    }\n",
              "\n",
              "    .colab-df-convert:hover {\n",
              "      background-color: #E2EBFA;\n",
              "      box-shadow: 0px 1px 2px rgba(60, 64, 67, 0.3), 0px 1px 3px 1px rgba(60, 64, 67, 0.15);\n",
              "      fill: #174EA6;\n",
              "    }\n",
              "\n",
              "    [theme=dark] .colab-df-convert {\n",
              "      background-color: #3B4455;\n",
              "      fill: #D2E3FC;\n",
              "    }\n",
              "\n",
              "    [theme=dark] .colab-df-convert:hover {\n",
              "      background-color: #434B5C;\n",
              "      box-shadow: 0px 1px 3px 1px rgba(0, 0, 0, 0.15);\n",
              "      filter: drop-shadow(0px 1px 2px rgba(0, 0, 0, 0.3));\n",
              "      fill: #FFFFFF;\n",
              "    }\n",
              "  </style>\n",
              "\n",
              "      <script>\n",
              "        const buttonEl =\n",
              "          document.querySelector('#df-1fbf80e3-cd75-4bf6-91cd-2f368c773480 button.colab-df-convert');\n",
              "        buttonEl.style.display =\n",
              "          google.colab.kernel.accessAllowed ? 'block' : 'none';\n",
              "\n",
              "        async function convertToInteractive(key) {\n",
              "          const element = document.querySelector('#df-1fbf80e3-cd75-4bf6-91cd-2f368c773480');\n",
              "          const dataTable =\n",
              "            await google.colab.kernel.invokeFunction('convertToInteractive',\n",
              "                                                     [key], {});\n",
              "          if (!dataTable) return;\n",
              "\n",
              "          const docLinkHtml = 'Like what you see? Visit the ' +\n",
              "            '<a target=\"_blank\" href=https://colab.research.google.com/notebooks/data_table.ipynb>data table notebook</a>'\n",
              "            + ' to learn more about interactive tables.';\n",
              "          element.innerHTML = '';\n",
              "          dataTable['output_type'] = 'display_data';\n",
              "          await google.colab.output.renderOutput(dataTable, element);\n",
              "          const docLink = document.createElement('div');\n",
              "          docLink.innerHTML = docLinkHtml;\n",
              "          element.appendChild(docLink);\n",
              "        }\n",
              "      </script>\n",
              "    </div>\n",
              "  </div>\n",
              "  "
            ]
          },
          "metadata": {},
          "execution_count": 5
        }
      ]
    },
    {
      "cell_type": "markdown",
      "source": [
        "the exploratory data analysis  shows only 3 columns. This means that other columns are non numeric, hence, we use dataFrame.describe(include=\"all\") method to get the details of all columns."
      ],
      "metadata": {
        "id": "BIyNeUv5gH68"
      }
    },
    {
      "cell_type": "code",
      "source": [
        "df.describe(include = \"all\")"
      ],
      "metadata": {
        "colab": {
          "base_uri": "https://localhost:8080/",
          "height": 508
        },
        "id": "wmtu_D__f15a",
        "outputId": "ab31b0cc-38d6-4b45-b3ef-49bdded7e717"
      },
      "execution_count": 6,
      "outputs": [
        {
          "output_type": "execute_result",
          "data": {
            "text/plain": [
              "               S/N. Gender             Branch            Region      Status  \\\n",
              "count   8645.000000   8611               8645              8645        8645   \n",
              "unique          NaN      2                 15                 3           5   \n",
              "top             NaN   Male  Corporate Banking  Corporate Region  Performing   \n",
              "freq            NaN   4671               6732              6747        3840   \n",
              "mean    4323.000000    NaN                NaN               NaN         NaN   \n",
              "std     2495.740872    NaN                NaN               NaN         NaN   \n",
              "min        1.000000    NaN                NaN               NaN         NaN   \n",
              "25%     2162.000000    NaN                NaN               NaN         NaN   \n",
              "50%     4323.000000    NaN                NaN               NaN         NaN   \n",
              "75%     6484.000000    NaN                NaN               NaN         NaN   \n",
              "max     8645.000000    NaN                NaN               NaN         NaN   \n",
              "\n",
              "       Economic_Sector                                    Product  \\\n",
              "count             8645                                       8645   \n",
              "unique             204                                         17   \n",
              "top          Education  (ELMS2) MAIN EQUIP (SPEC) GRP MONTHLY(24)   \n",
              "freq              3797                                       2978   \n",
              "mean               NaN                                        NaN   \n",
              "std                NaN                                        NaN   \n",
              "min                NaN                                        NaN   \n",
              "25%                NaN                                        NaN   \n",
              "50%                NaN                                        NaN   \n",
              "75%                NaN                                        NaN   \n",
              "max                NaN                                        NaN   \n",
              "\n",
              "         Loan_Amount                                         Collateral  \\\n",
              "count           8645                                               8637   \n",
              "unique          1082                                                300   \n",
              "top     1,000,000.00  Television, Fridge, Freezer, Home Theatre, Air...   \n",
              "freq             425                                               1700   \n",
              "mean             NaN                                                NaN   \n",
              "std              NaN                                                NaN   \n",
              "min              NaN                                                NaN   \n",
              "25%              NaN                                                NaN   \n",
              "50%              NaN                                                NaN   \n",
              "75%              NaN                                                NaN   \n",
              "max              NaN                                                NaN   \n",
              "\n",
              "       Collateral_Value       Tenure  Interest_Rate  \n",
              "count              8645   8645.00000    8645.000000  \n",
              "unique              147          NaN            NaN  \n",
              "top        2,000,000.00          NaN            NaN  \n",
              "freq               1106          NaN            NaN  \n",
              "mean                NaN    684.61631      29.470643  \n",
              "std                 NaN    540.88051      22.545440  \n",
              "min                 NaN      8.00000       0.000000  \n",
              "25%                 NaN    486.00000      13.310000  \n",
              "50%                 NaN    670.00000      26.210000  \n",
              "75%                 NaN    789.00000      36.830000  \n",
              "max                 NaN  22218.00000     240.000000  "
            ],
            "text/html": [
              "\n",
              "  <div id=\"df-cedce23f-4536-4638-a98a-085fe194ae72\">\n",
              "    <div class=\"colab-df-container\">\n",
              "      <div>\n",
              "<style scoped>\n",
              "    .dataframe tbody tr th:only-of-type {\n",
              "        vertical-align: middle;\n",
              "    }\n",
              "\n",
              "    .dataframe tbody tr th {\n",
              "        vertical-align: top;\n",
              "    }\n",
              "\n",
              "    .dataframe thead th {\n",
              "        text-align: right;\n",
              "    }\n",
              "</style>\n",
              "<table border=\"1\" class=\"dataframe\">\n",
              "  <thead>\n",
              "    <tr style=\"text-align: right;\">\n",
              "      <th></th>\n",
              "      <th>S/N.</th>\n",
              "      <th>Gender</th>\n",
              "      <th>Branch</th>\n",
              "      <th>Region</th>\n",
              "      <th>Status</th>\n",
              "      <th>Economic_Sector</th>\n",
              "      <th>Product</th>\n",
              "      <th>Loan_Amount</th>\n",
              "      <th>Collateral</th>\n",
              "      <th>Collateral_Value</th>\n",
              "      <th>Tenure</th>\n",
              "      <th>Interest_Rate</th>\n",
              "    </tr>\n",
              "  </thead>\n",
              "  <tbody>\n",
              "    <tr>\n",
              "      <th>count</th>\n",
              "      <td>8645.000000</td>\n",
              "      <td>8611</td>\n",
              "      <td>8645</td>\n",
              "      <td>8645</td>\n",
              "      <td>8645</td>\n",
              "      <td>8645</td>\n",
              "      <td>8645</td>\n",
              "      <td>8645</td>\n",
              "      <td>8637</td>\n",
              "      <td>8645</td>\n",
              "      <td>8645.00000</td>\n",
              "      <td>8645.000000</td>\n",
              "    </tr>\n",
              "    <tr>\n",
              "      <th>unique</th>\n",
              "      <td>NaN</td>\n",
              "      <td>2</td>\n",
              "      <td>15</td>\n",
              "      <td>3</td>\n",
              "      <td>5</td>\n",
              "      <td>204</td>\n",
              "      <td>17</td>\n",
              "      <td>1082</td>\n",
              "      <td>300</td>\n",
              "      <td>147</td>\n",
              "      <td>NaN</td>\n",
              "      <td>NaN</td>\n",
              "    </tr>\n",
              "    <tr>\n",
              "      <th>top</th>\n",
              "      <td>NaN</td>\n",
              "      <td>Male</td>\n",
              "      <td>Corporate Banking</td>\n",
              "      <td>Corporate Region</td>\n",
              "      <td>Performing</td>\n",
              "      <td>Education</td>\n",
              "      <td>(ELMS2) MAIN EQUIP (SPEC) GRP MONTHLY(24)</td>\n",
              "      <td>1,000,000.00</td>\n",
              "      <td>Television, Fridge, Freezer, Home Theatre, Air...</td>\n",
              "      <td>2,000,000.00</td>\n",
              "      <td>NaN</td>\n",
              "      <td>NaN</td>\n",
              "    </tr>\n",
              "    <tr>\n",
              "      <th>freq</th>\n",
              "      <td>NaN</td>\n",
              "      <td>4671</td>\n",
              "      <td>6732</td>\n",
              "      <td>6747</td>\n",
              "      <td>3840</td>\n",
              "      <td>3797</td>\n",
              "      <td>2978</td>\n",
              "      <td>425</td>\n",
              "      <td>1700</td>\n",
              "      <td>1106</td>\n",
              "      <td>NaN</td>\n",
              "      <td>NaN</td>\n",
              "    </tr>\n",
              "    <tr>\n",
              "      <th>mean</th>\n",
              "      <td>4323.000000</td>\n",
              "      <td>NaN</td>\n",
              "      <td>NaN</td>\n",
              "      <td>NaN</td>\n",
              "      <td>NaN</td>\n",
              "      <td>NaN</td>\n",
              "      <td>NaN</td>\n",
              "      <td>NaN</td>\n",
              "      <td>NaN</td>\n",
              "      <td>NaN</td>\n",
              "      <td>684.61631</td>\n",
              "      <td>29.470643</td>\n",
              "    </tr>\n",
              "    <tr>\n",
              "      <th>std</th>\n",
              "      <td>2495.740872</td>\n",
              "      <td>NaN</td>\n",
              "      <td>NaN</td>\n",
              "      <td>NaN</td>\n",
              "      <td>NaN</td>\n",
              "      <td>NaN</td>\n",
              "      <td>NaN</td>\n",
              "      <td>NaN</td>\n",
              "      <td>NaN</td>\n",
              "      <td>NaN</td>\n",
              "      <td>540.88051</td>\n",
              "      <td>22.545440</td>\n",
              "    </tr>\n",
              "    <tr>\n",
              "      <th>min</th>\n",
              "      <td>1.000000</td>\n",
              "      <td>NaN</td>\n",
              "      <td>NaN</td>\n",
              "      <td>NaN</td>\n",
              "      <td>NaN</td>\n",
              "      <td>NaN</td>\n",
              "      <td>NaN</td>\n",
              "      <td>NaN</td>\n",
              "      <td>NaN</td>\n",
              "      <td>NaN</td>\n",
              "      <td>8.00000</td>\n",
              "      <td>0.000000</td>\n",
              "    </tr>\n",
              "    <tr>\n",
              "      <th>25%</th>\n",
              "      <td>2162.000000</td>\n",
              "      <td>NaN</td>\n",
              "      <td>NaN</td>\n",
              "      <td>NaN</td>\n",
              "      <td>NaN</td>\n",
              "      <td>NaN</td>\n",
              "      <td>NaN</td>\n",
              "      <td>NaN</td>\n",
              "      <td>NaN</td>\n",
              "      <td>NaN</td>\n",
              "      <td>486.00000</td>\n",
              "      <td>13.310000</td>\n",
              "    </tr>\n",
              "    <tr>\n",
              "      <th>50%</th>\n",
              "      <td>4323.000000</td>\n",
              "      <td>NaN</td>\n",
              "      <td>NaN</td>\n",
              "      <td>NaN</td>\n",
              "      <td>NaN</td>\n",
              "      <td>NaN</td>\n",
              "      <td>NaN</td>\n",
              "      <td>NaN</td>\n",
              "      <td>NaN</td>\n",
              "      <td>NaN</td>\n",
              "      <td>670.00000</td>\n",
              "      <td>26.210000</td>\n",
              "    </tr>\n",
              "    <tr>\n",
              "      <th>75%</th>\n",
              "      <td>6484.000000</td>\n",
              "      <td>NaN</td>\n",
              "      <td>NaN</td>\n",
              "      <td>NaN</td>\n",
              "      <td>NaN</td>\n",
              "      <td>NaN</td>\n",
              "      <td>NaN</td>\n",
              "      <td>NaN</td>\n",
              "      <td>NaN</td>\n",
              "      <td>NaN</td>\n",
              "      <td>789.00000</td>\n",
              "      <td>36.830000</td>\n",
              "    </tr>\n",
              "    <tr>\n",
              "      <th>max</th>\n",
              "      <td>8645.000000</td>\n",
              "      <td>NaN</td>\n",
              "      <td>NaN</td>\n",
              "      <td>NaN</td>\n",
              "      <td>NaN</td>\n",
              "      <td>NaN</td>\n",
              "      <td>NaN</td>\n",
              "      <td>NaN</td>\n",
              "      <td>NaN</td>\n",
              "      <td>NaN</td>\n",
              "      <td>22218.00000</td>\n",
              "      <td>240.000000</td>\n",
              "    </tr>\n",
              "  </tbody>\n",
              "</table>\n",
              "</div>\n",
              "      <button class=\"colab-df-convert\" onclick=\"convertToInteractive('df-cedce23f-4536-4638-a98a-085fe194ae72')\"\n",
              "              title=\"Convert this dataframe to an interactive table.\"\n",
              "              style=\"display:none;\">\n",
              "        \n",
              "  <svg xmlns=\"http://www.w3.org/2000/svg\" height=\"24px\"viewBox=\"0 0 24 24\"\n",
              "       width=\"24px\">\n",
              "    <path d=\"M0 0h24v24H0V0z\" fill=\"none\"/>\n",
              "    <path d=\"M18.56 5.44l.94 2.06.94-2.06 2.06-.94-2.06-.94-.94-2.06-.94 2.06-2.06.94zm-11 1L8.5 8.5l.94-2.06 2.06-.94-2.06-.94L8.5 2.5l-.94 2.06-2.06.94zm10 10l.94 2.06.94-2.06 2.06-.94-2.06-.94-.94-2.06-.94 2.06-2.06.94z\"/><path d=\"M17.41 7.96l-1.37-1.37c-.4-.4-.92-.59-1.43-.59-.52 0-1.04.2-1.43.59L10.3 9.45l-7.72 7.72c-.78.78-.78 2.05 0 2.83L4 21.41c.39.39.9.59 1.41.59.51 0 1.02-.2 1.41-.59l7.78-7.78 2.81-2.81c.8-.78.8-2.07 0-2.86zM5.41 20L4 18.59l7.72-7.72 1.47 1.35L5.41 20z\"/>\n",
              "  </svg>\n",
              "      </button>\n",
              "      \n",
              "  <style>\n",
              "    .colab-df-container {\n",
              "      display:flex;\n",
              "      flex-wrap:wrap;\n",
              "      gap: 12px;\n",
              "    }\n",
              "\n",
              "    .colab-df-convert {\n",
              "      background-color: #E8F0FE;\n",
              "      border: none;\n",
              "      border-radius: 50%;\n",
              "      cursor: pointer;\n",
              "      display: none;\n",
              "      fill: #1967D2;\n",
              "      height: 32px;\n",
              "      padding: 0 0 0 0;\n",
              "      width: 32px;\n",
              "    }\n",
              "\n",
              "    .colab-df-convert:hover {\n",
              "      background-color: #E2EBFA;\n",
              "      box-shadow: 0px 1px 2px rgba(60, 64, 67, 0.3), 0px 1px 3px 1px rgba(60, 64, 67, 0.15);\n",
              "      fill: #174EA6;\n",
              "    }\n",
              "\n",
              "    [theme=dark] .colab-df-convert {\n",
              "      background-color: #3B4455;\n",
              "      fill: #D2E3FC;\n",
              "    }\n",
              "\n",
              "    [theme=dark] .colab-df-convert:hover {\n",
              "      background-color: #434B5C;\n",
              "      box-shadow: 0px 1px 3px 1px rgba(0, 0, 0, 0.15);\n",
              "      filter: drop-shadow(0px 1px 2px rgba(0, 0, 0, 0.3));\n",
              "      fill: #FFFFFF;\n",
              "    }\n",
              "  </style>\n",
              "\n",
              "      <script>\n",
              "        const buttonEl =\n",
              "          document.querySelector('#df-cedce23f-4536-4638-a98a-085fe194ae72 button.colab-df-convert');\n",
              "        buttonEl.style.display =\n",
              "          google.colab.kernel.accessAllowed ? 'block' : 'none';\n",
              "\n",
              "        async function convertToInteractive(key) {\n",
              "          const element = document.querySelector('#df-cedce23f-4536-4638-a98a-085fe194ae72');\n",
              "          const dataTable =\n",
              "            await google.colab.kernel.invokeFunction('convertToInteractive',\n",
              "                                                     [key], {});\n",
              "          if (!dataTable) return;\n",
              "\n",
              "          const docLinkHtml = 'Like what you see? Visit the ' +\n",
              "            '<a target=\"_blank\" href=https://colab.research.google.com/notebooks/data_table.ipynb>data table notebook</a>'\n",
              "            + ' to learn more about interactive tables.';\n",
              "          element.innerHTML = '';\n",
              "          dataTable['output_type'] = 'display_data';\n",
              "          await google.colab.output.renderOutput(dataTable, element);\n",
              "          const docLink = document.createElement('div');\n",
              "          docLink.innerHTML = docLinkHtml;\n",
              "          element.appendChild(docLink);\n",
              "        }\n",
              "      </script>\n",
              "    </div>\n",
              "  </div>\n",
              "  "
            ]
          },
          "metadata": {},
          "execution_count": 6
        }
      ]
    },
    {
      "cell_type": "code",
      "source": [
        "df.info()"
      ],
      "metadata": {
        "colab": {
          "base_uri": "https://localhost:8080/"
        },
        "id": "h1G6gI--gcBw",
        "outputId": "29a34633-55ba-45ac-cb58-2b288c7d040c"
      },
      "execution_count": 7,
      "outputs": [
        {
          "output_type": "stream",
          "name": "stdout",
          "text": [
            "<class 'pandas.core.frame.DataFrame'>\n",
            "RangeIndex: 8651 entries, 0 to 8650\n",
            "Data columns (total 12 columns):\n",
            " #   Column            Non-Null Count  Dtype  \n",
            "---  ------            --------------  -----  \n",
            " 0   S/N.              8645 non-null   float64\n",
            " 1   Gender            8611 non-null   object \n",
            " 2   Branch            8645 non-null   object \n",
            " 3   Region            8645 non-null   object \n",
            " 4   Status            8645 non-null   object \n",
            " 5   Economic_Sector   8645 non-null   object \n",
            " 6   Product           8645 non-null   object \n",
            " 7   Loan_Amount       8645 non-null   object \n",
            " 8   Collateral        8637 non-null   object \n",
            " 9   Collateral_Value  8645 non-null   object \n",
            " 10  Tenure            8645 non-null   float64\n",
            " 11  Interest_Rate     8645 non-null   float64\n",
            "dtypes: float64(3), object(9)\n",
            "memory usage: 811.2+ KB\n"
          ]
        }
      ]
    },
    {
      "cell_type": "code",
      "source": [
        "# replace the commas with empty strings and convert to integers\n",
        "df['Loan_Amount'] = df['Loan_Amount'].str.replace(',', '').astype(float)\n",
        "df['Collateral_Value'] = df['Collateral_Value'].str.replace(',', '').astype(float)\n",
        "\n",
        "df.info(())"
      ],
      "metadata": {
        "colab": {
          "base_uri": "https://localhost:8080/"
        },
        "id": "DeF5b5nQl4mO",
        "outputId": "d406fcbd-b7d8-4597-dae7-fe2a71d279cc"
      },
      "execution_count": 8,
      "outputs": [
        {
          "output_type": "stream",
          "name": "stdout",
          "text": [
            "<class 'pandas.core.frame.DataFrame'>\n",
            "RangeIndex: 8651 entries, 0 to 8650\n",
            "Data columns (total 12 columns):\n",
            " #   Column            Non-Null Count  Dtype  \n",
            "---  ------            --------------  -----  \n",
            " 0   S/N.              8645 non-null   float64\n",
            " 1   Gender            8611 non-null   object \n",
            " 2   Branch            8645 non-null   object \n",
            " 3   Region            8645 non-null   object \n",
            " 4   Status            8645 non-null   object \n",
            " 5   Economic_Sector   8645 non-null   object \n",
            " 6   Product           8645 non-null   object \n",
            " 7   Loan_Amount       8645 non-null   float64\n",
            " 8   Collateral        8637 non-null   object \n",
            " 9   Collateral_Value  8645 non-null   float64\n",
            " 10  Tenure            8645 non-null   float64\n",
            " 11  Interest_Rate     8645 non-null   float64\n",
            "dtypes: float64(5), object(7)\n",
            "memory usage: 811.2+ KB\n"
          ]
        }
      ]
    },
    {
      "cell_type": "code",
      "source": [
        "df.describe()"
      ],
      "metadata": {
        "colab": {
          "base_uri": "https://localhost:8080/",
          "height": 300
        },
        "id": "9LY3ig1QprDO",
        "outputId": "2348868a-560c-4393-9c43-bb05b9e703d9"
      },
      "execution_count": 9,
      "outputs": [
        {
          "output_type": "execute_result",
          "data": {
            "text/plain": [
              "              S/N.   Loan_Amount  Collateral_Value       Tenure  Interest_Rate\n",
              "count  8645.000000  8.645000e+03      8.645000e+03   8645.00000    8645.000000\n",
              "mean   4323.000000  8.616866e+05      1.658700e+06    684.61631      29.470643\n",
              "std    2495.740872  2.407265e+06      4.554564e+06    540.88051      22.545440\n",
              "min       1.000000  1.400000e+04      0.000000e+00      8.00000       0.000000\n",
              "25%    2162.000000  3.310000e+05      6.500000e+05    486.00000      13.310000\n",
              "50%    4323.000000  6.330000e+05      1.000000e+06    670.00000      26.210000\n",
              "75%    6484.000000  1.000000e+06      2.000000e+06    789.00000      36.830000\n",
              "max    8645.000000  5.227370e+07      2.400000e+08  22218.00000     240.000000"
            ],
            "text/html": [
              "\n",
              "  <div id=\"df-13987bdb-dca2-41f6-a681-9d3e3933a32d\">\n",
              "    <div class=\"colab-df-container\">\n",
              "      <div>\n",
              "<style scoped>\n",
              "    .dataframe tbody tr th:only-of-type {\n",
              "        vertical-align: middle;\n",
              "    }\n",
              "\n",
              "    .dataframe tbody tr th {\n",
              "        vertical-align: top;\n",
              "    }\n",
              "\n",
              "    .dataframe thead th {\n",
              "        text-align: right;\n",
              "    }\n",
              "</style>\n",
              "<table border=\"1\" class=\"dataframe\">\n",
              "  <thead>\n",
              "    <tr style=\"text-align: right;\">\n",
              "      <th></th>\n",
              "      <th>S/N.</th>\n",
              "      <th>Loan_Amount</th>\n",
              "      <th>Collateral_Value</th>\n",
              "      <th>Tenure</th>\n",
              "      <th>Interest_Rate</th>\n",
              "    </tr>\n",
              "  </thead>\n",
              "  <tbody>\n",
              "    <tr>\n",
              "      <th>count</th>\n",
              "      <td>8645.000000</td>\n",
              "      <td>8.645000e+03</td>\n",
              "      <td>8.645000e+03</td>\n",
              "      <td>8645.00000</td>\n",
              "      <td>8645.000000</td>\n",
              "    </tr>\n",
              "    <tr>\n",
              "      <th>mean</th>\n",
              "      <td>4323.000000</td>\n",
              "      <td>8.616866e+05</td>\n",
              "      <td>1.658700e+06</td>\n",
              "      <td>684.61631</td>\n",
              "      <td>29.470643</td>\n",
              "    </tr>\n",
              "    <tr>\n",
              "      <th>std</th>\n",
              "      <td>2495.740872</td>\n",
              "      <td>2.407265e+06</td>\n",
              "      <td>4.554564e+06</td>\n",
              "      <td>540.88051</td>\n",
              "      <td>22.545440</td>\n",
              "    </tr>\n",
              "    <tr>\n",
              "      <th>min</th>\n",
              "      <td>1.000000</td>\n",
              "      <td>1.400000e+04</td>\n",
              "      <td>0.000000e+00</td>\n",
              "      <td>8.00000</td>\n",
              "      <td>0.000000</td>\n",
              "    </tr>\n",
              "    <tr>\n",
              "      <th>25%</th>\n",
              "      <td>2162.000000</td>\n",
              "      <td>3.310000e+05</td>\n",
              "      <td>6.500000e+05</td>\n",
              "      <td>486.00000</td>\n",
              "      <td>13.310000</td>\n",
              "    </tr>\n",
              "    <tr>\n",
              "      <th>50%</th>\n",
              "      <td>4323.000000</td>\n",
              "      <td>6.330000e+05</td>\n",
              "      <td>1.000000e+06</td>\n",
              "      <td>670.00000</td>\n",
              "      <td>26.210000</td>\n",
              "    </tr>\n",
              "    <tr>\n",
              "      <th>75%</th>\n",
              "      <td>6484.000000</td>\n",
              "      <td>1.000000e+06</td>\n",
              "      <td>2.000000e+06</td>\n",
              "      <td>789.00000</td>\n",
              "      <td>36.830000</td>\n",
              "    </tr>\n",
              "    <tr>\n",
              "      <th>max</th>\n",
              "      <td>8645.000000</td>\n",
              "      <td>5.227370e+07</td>\n",
              "      <td>2.400000e+08</td>\n",
              "      <td>22218.00000</td>\n",
              "      <td>240.000000</td>\n",
              "    </tr>\n",
              "  </tbody>\n",
              "</table>\n",
              "</div>\n",
              "      <button class=\"colab-df-convert\" onclick=\"convertToInteractive('df-13987bdb-dca2-41f6-a681-9d3e3933a32d')\"\n",
              "              title=\"Convert this dataframe to an interactive table.\"\n",
              "              style=\"display:none;\">\n",
              "        \n",
              "  <svg xmlns=\"http://www.w3.org/2000/svg\" height=\"24px\"viewBox=\"0 0 24 24\"\n",
              "       width=\"24px\">\n",
              "    <path d=\"M0 0h24v24H0V0z\" fill=\"none\"/>\n",
              "    <path d=\"M18.56 5.44l.94 2.06.94-2.06 2.06-.94-2.06-.94-.94-2.06-.94 2.06-2.06.94zm-11 1L8.5 8.5l.94-2.06 2.06-.94-2.06-.94L8.5 2.5l-.94 2.06-2.06.94zm10 10l.94 2.06.94-2.06 2.06-.94-2.06-.94-.94-2.06-.94 2.06-2.06.94z\"/><path d=\"M17.41 7.96l-1.37-1.37c-.4-.4-.92-.59-1.43-.59-.52 0-1.04.2-1.43.59L10.3 9.45l-7.72 7.72c-.78.78-.78 2.05 0 2.83L4 21.41c.39.39.9.59 1.41.59.51 0 1.02-.2 1.41-.59l7.78-7.78 2.81-2.81c.8-.78.8-2.07 0-2.86zM5.41 20L4 18.59l7.72-7.72 1.47 1.35L5.41 20z\"/>\n",
              "  </svg>\n",
              "      </button>\n",
              "      \n",
              "  <style>\n",
              "    .colab-df-container {\n",
              "      display:flex;\n",
              "      flex-wrap:wrap;\n",
              "      gap: 12px;\n",
              "    }\n",
              "\n",
              "    .colab-df-convert {\n",
              "      background-color: #E8F0FE;\n",
              "      border: none;\n",
              "      border-radius: 50%;\n",
              "      cursor: pointer;\n",
              "      display: none;\n",
              "      fill: #1967D2;\n",
              "      height: 32px;\n",
              "      padding: 0 0 0 0;\n",
              "      width: 32px;\n",
              "    }\n",
              "\n",
              "    .colab-df-convert:hover {\n",
              "      background-color: #E2EBFA;\n",
              "      box-shadow: 0px 1px 2px rgba(60, 64, 67, 0.3), 0px 1px 3px 1px rgba(60, 64, 67, 0.15);\n",
              "      fill: #174EA6;\n",
              "    }\n",
              "\n",
              "    [theme=dark] .colab-df-convert {\n",
              "      background-color: #3B4455;\n",
              "      fill: #D2E3FC;\n",
              "    }\n",
              "\n",
              "    [theme=dark] .colab-df-convert:hover {\n",
              "      background-color: #434B5C;\n",
              "      box-shadow: 0px 1px 3px 1px rgba(0, 0, 0, 0.15);\n",
              "      filter: drop-shadow(0px 1px 2px rgba(0, 0, 0, 0.3));\n",
              "      fill: #FFFFFF;\n",
              "    }\n",
              "  </style>\n",
              "\n",
              "      <script>\n",
              "        const buttonEl =\n",
              "          document.querySelector('#df-13987bdb-dca2-41f6-a681-9d3e3933a32d button.colab-df-convert');\n",
              "        buttonEl.style.display =\n",
              "          google.colab.kernel.accessAllowed ? 'block' : 'none';\n",
              "\n",
              "        async function convertToInteractive(key) {\n",
              "          const element = document.querySelector('#df-13987bdb-dca2-41f6-a681-9d3e3933a32d');\n",
              "          const dataTable =\n",
              "            await google.colab.kernel.invokeFunction('convertToInteractive',\n",
              "                                                     [key], {});\n",
              "          if (!dataTable) return;\n",
              "\n",
              "          const docLinkHtml = 'Like what you see? Visit the ' +\n",
              "            '<a target=\"_blank\" href=https://colab.research.google.com/notebooks/data_table.ipynb>data table notebook</a>'\n",
              "            + ' to learn more about interactive tables.';\n",
              "          element.innerHTML = '';\n",
              "          dataTable['output_type'] = 'display_data';\n",
              "          await google.colab.output.renderOutput(dataTable, element);\n",
              "          const docLink = document.createElement('div');\n",
              "          docLink.innerHTML = docLinkHtml;\n",
              "          element.appendChild(docLink);\n",
              "        }\n",
              "      </script>\n",
              "    </div>\n",
              "  </div>\n",
              "  "
            ]
          },
          "metadata": {},
          "execution_count": 9
        }
      ]
    },
    {
      "cell_type": "code",
      "source": [
        "# Check for missing values\n",
        "print(df.isnull().sum())"
      ],
      "metadata": {
        "colab": {
          "base_uri": "https://localhost:8080/"
        },
        "id": "wvxvXxUOgnQW",
        "outputId": "8e844e32-2ff9-4440-8fa0-ef41825b18b9"
      },
      "execution_count": 10,
      "outputs": [
        {
          "output_type": "stream",
          "name": "stdout",
          "text": [
            "S/N.                 6\n",
            "Gender              40\n",
            "Branch               6\n",
            "Region               6\n",
            "Status               6\n",
            "Economic_Sector      6\n",
            "Product              6\n",
            "Loan_Amount          6\n",
            "Collateral          14\n",
            "Collateral_Value     6\n",
            "Tenure               6\n",
            "Interest_Rate        6\n",
            "dtype: int64\n"
          ]
        }
      ]
    },
    {
      "cell_type": "code",
      "source": [
        "# Visualize the distribution of loan amounts\n",
        "plt.figure(figsize=(12, 6))\n",
        "sns.histplot(df['Loan_Amount'], kde=True, bins=30)\n",
        "plt.title('Distribution of Loan Amounts')\n",
        "plt.xlabel('Loan Amount')\n",
        "plt.ylabel('Count')\n",
        "plt.show()"
      ],
      "metadata": {
        "colab": {
          "base_uri": "https://localhost:8080/",
          "height": 404
        },
        "id": "jSqzDoY4iGcv",
        "outputId": "8aa4d021-9cfc-4ca6-ddb5-b111c6ef451d"
      },
      "execution_count": 11,
      "outputs": [
        {
          "output_type": "display_data",
          "data": {
            "text/plain": [
              "<Figure size 864x432 with 1 Axes>"
            ],
            "image/png": "[encoded data removed]"
          },
          "metadata": {
            "needs_background": "light"
          }
        }
      ]
    },
    {
      "cell_type": "code",
      "source": [
        "# Visualize the relationship between collateral value and loan status\n",
        "plt.figure(figsize=(12, 6))\n",
        "sns.countplot(x='Collateral_Value', hue='Status', data=df)\n",
        "plt.title('Collateral Value vs Loan Status')\n",
        "plt.xlabel('Collateral Value')\n",
        "plt.ylabel('Count')\n",
        "plt.show()"
      ],
      "metadata": {
        "colab": {
          "base_uri": "https://localhost:8080/",
          "height": 404
        },
        "id": "H4NRnEiKiYEX",
        "outputId": "99c697a7-67dd-457a-a912-e76a5724615f"
      },
      "execution_count": 12,
      "outputs": [
        {
          "output_type": "display_data",
          "data": {
            "text/plain": [
              "<Figure size 864x432 with 1 Axes>"
            ],
            "image/png": "[encoded data removed]"
          },
          "metadata": {
            "needs_background": "light"
          }
        }
      ]
    },
    {
      "cell_type": "code",
      "source": [
        "# Visualize the relationship between loan amount and loan status\n",
        "plt.figure(figsize=(12, 6))\n",
        "sns.boxplot(x='Status', y='Loan_Amount', data=df)\n",
        "plt.title('Loan Amount vs Loan Status')\n",
        "plt.xlabel('Loan Status')\n",
        "plt.ylabel('Loan Amount')\n",
        "plt.show()"
      ],
      "metadata": {
        "id": "m1RfNKGni5Cp",
        "colab": {
          "base_uri": "https://localhost:8080/",
          "height": 404
        },
        "outputId": "a72833ba-991c-46f0-fa80-63fd0c2d3b9c"
      },
      "execution_count": 13,
      "outputs": [
        {
          "output_type": "display_data",
          "data": {
            "text/plain": [
              "<Figure size 864x432 with 1 Axes>"
            ],
            "image/png": "[encoded data removed]"
          },
          "metadata": {
            "needs_background": "light"
          }
        }
      ]
    },
    {
      "cell_type": "code",
      "source": [
        "# Checking the correlation between numerical variables\n",
        "plt.figure(figsize=(12, 6))\n",
        "sns.heatmap(df.corr(), annot=True, cmap='YlGnBu')\n",
        "plt.title('Correlation Heatmap')\n",
        "plt.show()"
      ],
      "metadata": {
        "id": "DeR499ollTd7",
        "colab": {
          "base_uri": "https://localhost:8080/",
          "height": 391
        },
        "outputId": "41b87ee6-c2da-4783-f751-073f2a0e2415"
      },
      "execution_count": 14,
      "outputs": [
        {
          "output_type": "display_data",
          "data": {
            "text/plain": [
              "<Figure size 864x432 with 2 Axes>"
            ],
            "image/png": "[encoded data removed]"
          },
          "metadata": {
            "needs_background": "light"
          }
        }
      ]
    },
    {
      "cell_type": "markdown",
      "source": [
        "Data Cleaning "
      ],
      "metadata": {
        "id": "4LtMq9cUlXQE"
      }
    },
    {
      "cell_type": "code",
      "source": [
        "# Remove unnecessary columns\n",
        "df = df.drop([\"S/N.\", \"Branch\", \"Region\", \"Collateral\"], axis=1)"
      ],
      "metadata": {
        "id": "skcj-e9ilaLG"
      },
      "execution_count": 15,
      "outputs": []
    },
    {
      "cell_type": "code",
      "source": [
        "# Remove rows with missing values\n",
        "df = df.dropna()"
      ],
      "metadata": {
        "id": "gSoInpSv36F6"
      },
      "execution_count": 18,
      "outputs": []
    },
    {
      "cell_type": "code",
      "source": [
        "# Check for missing values\n",
        "df.isnull().any()"
      ],
      "metadata": {
        "colab": {
          "base_uri": "https://localhost:8080/"
        },
        "id": "ys8ExeN539u9",
        "outputId": "49dfe754-e01a-44cb-80a1-ffb81b82a572"
      },
      "execution_count": 19,
      "outputs": [
        {
          "output_type": "execute_result",
          "data": {
            "text/plain": [
              "Gender              False\n",
              "Status              False\n",
              "Economic_Sector     False\n",
              "Product             False\n",
              "Loan_Amount         False\n",
              "Collateral_Value    False\n",
              "Tenure              False\n",
              "Interest_Rate       False\n",
              "dtype: bool"
            ]
          },
          "metadata": {},
          "execution_count": 19
        }
      ]
    },
    {
      "cell_type": "code",
      "source": [
        "# Check for duplicates\n",
        "df.duplicated().sum()  # Check number of duplicated rows\n",
        "df.drop_duplicates(inplace=True)  # Drop duplicate rows"
      ],
      "metadata": {
        "id": "0F9PMUYDIk_h"
      },
      "execution_count": 20,
      "outputs": []
    },
    {
      "cell_type": "code",
      "source": [
        "df.info()"
      ],
      "metadata": {
        "colab": {
          "base_uri": "https://localhost:8080/"
        },
        "id": "gjcKmXBM4Oy3",
        "outputId": "31ad6718-27d6-484d-9ebd-6775c7d6052d"
      },
      "execution_count": 21,
      "outputs": [
        {
          "output_type": "stream",
          "name": "stdout",
          "text": [
            "<class 'pandas.core.frame.DataFrame'>\n",
            "Int64Index: 5119 entries, 0 to 8650\n",
            "Data columns (total 8 columns):\n",
            " #   Column            Non-Null Count  Dtype  \n",
            "---  ------            --------------  -----  \n",
            " 0   Gender            5119 non-null   object \n",
            " 1   Status            5119 non-null   object \n",
            " 2   Economic_Sector   5119 non-null   object \n",
            " 3   Product           5119 non-null   object \n",
            " 4   Loan_Amount       5119 non-null   float64\n",
            " 5   Collateral_Value  5119 non-null   float64\n",
            " 6   Tenure            5119 non-null   float64\n",
            " 7   Interest_Rate     5119 non-null   float64\n",
            "dtypes: float64(4), object(4)\n",
            "memory usage: 359.9+ KB\n"
          ]
        }
      ]
    },
    {
      "cell_type": "markdown",
      "source": [
        "Data Preprocessing"
      ],
      "metadata": {
        "id": "sxJOettbJ2yt"
      }
    },
    {
      "cell_type": "code",
      "source": [
        "from sklearn.preprocessing import StandardScaler\n",
        "from sklearn.impute import SimpleImputer\n",
        "from sklearn.compose import ColumnTransformer\n",
        "from sklearn.preprocessing import OneHotEncoder\n",
        "\n",
        "# Split the data into training and testing sets\n",
        "x = df.drop('Status', axis=1)\n",
        "y = df['Status']"
      ],
      "metadata": {
        "id": "6A_J9HLAJ-i1"
      },
      "execution_count": 22,
      "outputs": []
    },
    {
      "cell_type": "code",
      "source": [
        "print(df['Gender'].unique())\n",
        "print(df['Status'].unique())\n",
        "print(df['Economic_Sector'].unique())\n",
        "print(df['Product'].unique())"
      ],
      "metadata": {
        "colab": {
          "base_uri": "https://localhost:8080/"
        },
        "id": "-uIhjn31SlYz",
        "outputId": "459aac78-bd20-41a7-91ec-22e84d217feb"
      },
      "execution_count": 23,
      "outputs": [
        {
          "output_type": "stream",
          "name": "stdout",
          "text": [
            "['Female' 'Male']\n",
            "['Performing' 'Sub Standard' 'Pass And Watch' 'Lost' 'Doubtful']\n",
            "['Other(Assorted Drinks)' 'Other(PROVISIONS)' 'Other(Textile Materials)'\n",
            " 'Other(Drinks)' 'Other((DRINKS/PROVISION))' 'Other(Food Stuffs)'\n",
            " 'Other(BUILDING MATERIALS)' 'Other(HOTELLIER)'\n",
            " 'Other(PRINTING (INDUSTRIAL DESIGN))' 'Other(Phone and Accessories)'\n",
            " 'Other(Public Toilet)' 'Consumer Or Personal' 'Education'\n",
            " 'Other(BANKING)' 'Health' 'Other(Auto Spare Parts)' 'Other(CLOTHING)'\n",
            " 'Other(TEXTILE MATERIALS)' 'Other(FOOD STUFFS)' 'Other(HOUSEHOLD ITEMS)'\n",
            " 'Other(PLUMBING MATERIALS)' 'Other(Sales of Wall Clock)'\n",
            " 'Other(Resturant)' 'Other(Engine Oil)' 'Other(EVENT MANAGEMENT)'\n",
            " 'Other(CHEMICAL AND ORGANIC PRODUCT)' 'Other(LAUNDRY)'\n",
            " 'Other(FASHION DESIGNER)' 'Other(Butcher)' 'Other(CATEREER)'\n",
            " 'Other(FOOTWEARS)' 'Other(Household Wares)' 'Other(Provisions)'\n",
            " 'Other(CATERING)' 'Other(BLOCK INDUSTRY)' 'Other(RESTAURANT)'\n",
            " 'Finance Or Insurance' 'Other(Engine Oil and Auto Parts)'\n",
            " \"Other(Men's Shoes)\" 'Other(RECYCLING BUSINESS)' 'Other(Food stuffs)'\n",
            " 'Other(Ladies Shop)' 'Other(CLOTHES)' 'Other(Provision)' 'Other(Saloon)'\n",
            " 'Other(Business Centre)' 'Other(Building Materials)'\n",
            " 'Other(Provision and Drinks)' 'Other(Business Center and POS)'\n",
            " 'Other(Restaurant)' 'Other(Auto Spare parts)' 'Other(COTTON INTERIOR)'\n",
            " 'Other(men shoe)' 'Other(CAR BUSINESS)' 'Other(CONSTRUCTION)'\n",
            " 'Other(Ladies Wear)' 'Other(Clothing)' 'Other(Ladies Wears)'\n",
            " 'Other(Photography)' 'Other(DRINKS)' 'Other(building materials)'\n",
            " 'Building And Construction' 'Other(DAYCARE)' 'Other(SHOES)'\n",
            " 'Other(FOOD STUFF)' 'Other(TOMATOES AND PEPPER)' 'Other(TEXTILES)'\n",
            " 'Other(PROVISION)' 'Other(RAM AND GOAT)'\n",
            " 'Other(Sales of Wines and Drinks)' 'Other(Laboratory Manager)'\n",
            " 'Other(Resturant and Motel)' 'Other(Printing Press)'\n",
            " 'Other(Laptop Engineer)' 'Other(Beauty and Spar)' 'Other(Sells Bags)'\n",
            " 'Other(Phone Accessories)' 'Other(Auto spare parts)'\n",
            " 'Other(Motor Spare Parts)' 'Other(Clothings)'\n",
            " 'Other(PLANK/BUILDING MATERIALS)' 'Other(PROVISION AND DRINKS)'\n",
            " 'Other(LUBRICANT)' 'Other(COSMETICS)' 'Other(PROVISIONS AND DRINKS)'\n",
            " 'Other(cosmetics)' 'Other(TRANSPORTATION)' 'Other(AVIATION)'\n",
            " 'Other(SALES OF TILES)' 'Other(LUBRICANTS)' 'Other(AUTO SPARE PARTS)'\n",
            " 'Other(CARPET AND RUG)' 'Other(SEWING MACHINES)' 'Other(PRINTING)'\n",
            " 'Other(YAM DISTRIBUTOR)' 'Other(FISH FARMING)' 'Other(EDUCATION)'\n",
            " 'Other(BOUTIQUE)' 'Electicity' 'Other(DIESEL SUPPLY)' 'Other(Spare Part)'\n",
            " 'Other(CURTAIN MATERIALS)' 'Other(PHONE ACCESSORIES)' 'Other(MATERIALS)'\n",
            " 'Other(MENS WEAR)' 'Other(EATERY)'\n",
            " 'Other(Manufacturing And Food Processing)' 'Other(BITUMEN)'\n",
            " 'Other(FOOD PRODUCTION)' 'Other(AUTOMOBILES)'\n",
            " 'Transport And Communication' 'Other(SOUVENIR)' 'Other(BAKER)'\n",
            " 'Other(CLOTHINGS)' 'Other(Baker)' 'Other(FABRICS)'\n",
            " 'Other(MOTOR SPARE PARTS)' 'Other(FROZEN FOOD)'\n",
            " 'Other(CLEANING AND FUMIGATION SERVICE)' 'Other(TOILETRIES)'\n",
            " 'Other(clothings)' 'Other(FEMALE JEANS)' 'Other(HOSPITALITY)'\n",
            " 'Other(CHEMICAL)' 'Other(ARTICLES)' 'Other(BUSINESS CENTRE)'\n",
            " 'Other(Transportation)' 'Other(photography)' 'Other(Table water)'\n",
            " 'Other(BEDSHEET AND DUVET)' 'Other(COMMUNICATION)'\n",
            " 'Other(LEGAL PRACTITIONER)' 'Other(ELECTRONICS)' 'Other(food stuffs)'\n",
            " 'Other(RESTARAUNT AND BAR)' 'Other(auto repair)'\n",
            " 'Other(DRINKS AND FOOD STUFFS)' 'Other(textile materials)'\n",
            " 'Other(FEMALE SHOES)' 'Other(KITCHEN UTENSILS)'\n",
            " 'Other(OTHER (FEDERAL FIRE SERVICE))' 'Other(FOOD AND BEVERAGES)'\n",
            " 'Other(AGENT BANKING)' 'Other(TRADING)' 'Other(BAKERY)'\n",
            " 'Other(LOGISTICS)' 'Other(FURNITURE/METAL FABRICATION)'\n",
            " 'Other(sales of batteries)' \"Other( MEN'S WEARS)\" 'Other(sales of food)'\n",
            " 'Other(sales of bags)' 'Other(sales of shoes and bags)'\n",
            " 'Other(GRILLED FOODS)' 'Other(SALES OF DRINKS)' 'Other(REGISTRARS)'\n",
            " 'Other(MATTRESSES)' 'Other(SALES OF PROVISION STOCKS)'\n",
            " 'Other(HAIR ACCESSORIES)' 'Other(SALES OF JEWELRIES)'\n",
            " 'Other(PROVISION STOCK)' 'Other(CHEMIST AND PROVISION)'\n",
            " 'Other(sales of food stuffs)' 'Other(sales of food stuff)'\n",
            " 'Other(MOBILE BANKING)' 'Other(WELDING)' 'Other(Sales of souvenirs)'\n",
            " 'Other(YAM)' 'Other(BAR)' 'Other(POULTRY FARM)'\n",
            " 'Other(Supply of company steels)' 'Other(Trading and sales of cosmetics)'\n",
            " 'Other(FIRE SERVICE)' 'Other(Builder)' 'Other(ENGINEER)'\n",
            " 'Other(TAILORING MATERIALS)' 'Other(SELLS MEN JEANS, SWEATERS AND SHIRT)'\n",
            " 'Other(DISPOSABLE PLATES AND SOUVENEIR BUSINESS)'\n",
            " 'Other(sales of toiletries)' 'Other(SPARE PARTS)'\n",
            " 'Other(catering and sales of snacks)' 'Other(FOOD PROCESSING)'\n",
            " 'Other(CAPITAL MARKET OPERATOR)' 'Other(RUNS A CANTEEN)'\n",
            " 'Other(ALUMINIUM)' 'Other(MUSLIM WEARS)' 'Other(SHOES AND BAGS)'\n",
            " 'Other(CEMENT)' 'Other(CEMENT AND IRON RODS)' \"Other(WOMEN'S WEARS)\"\n",
            " 'Water' 'Other(INFORMATION TECHNOLOGY)' 'General' 'Other(FOODSTUFF)']\n",
            "[\"(MSBS) MAINSTREET SAVE 'N BORROW SPECIAL\"\n",
            " \"(MSBB) MAINSTREET SAVE 'N BORROW BASIC\"\n",
            " '(MEMI) MAIN ENTERPRISE LOAN INDIVIDUAL MONTHLY'\n",
            " '(MAF) MAIN ASSET FINANCE LOAN'\n",
            " '(ELMS2) MAIN EQUIP (SPEC) GRP MONTHLY(24)'\n",
            " '(MAF1) MAIN ASSET FINANCE LOAN 1'\n",
            " '(ELMS5) MAIN EQUIP LOAN (SPECIAL) GROUP MONTHLY'\n",
            " '(ELMS3) MAIN EQUIP LOAN (SPECIAL) GROUP MONTHLY'\n",
            " '(PLASA)PERSONAL LOAN AGAINST SALARY MONTHLY' 'ELMS 8- (FMC)'\n",
            " '(ELMS) MAIN EQUIP LOAN (SPL) GRP MONTHLY(12)' 'ELMS4'\n",
            " '(LPO) LOCAL PURCHASE ORDER' '(PLMI) PAYE LOAN INDIVIDUAL'\n",
            " '(MCAS) MAINSTREET CAR ACQUISITION SCHEME'\n",
            " '(MSAS) MAINSTREET SHARE ACQUISITION SCHEME'\n",
            " '(SPAAS) STAFF PERSONAL ASSETS ACQUISITION SCHEME']\n"
          ]
        }
      ]
    },
    {
      "cell_type": "code",
      "source": [
        "\n",
        "# Convert the input data to a pandas DataFrame and specify the column names\n",
        "x = pd.DataFrame(x, columns=['Gender', 'Status', 'Economic_Sector', 'Product', 'Loan_Amount', 'Collateral_Value', 'Tenure'])\n",
        "\n",
        "# Encode categorical variables\n",
        "cat_cols = ['Gender', 'Status', 'Economic_Sector', 'Product']\n",
        "cat_transformer = OneHotEncoder(handle_unknown='ignore')\n",
        "preprocessor = ColumnTransformer(transformers=[('cat', cat_transformer, cat_cols)], remainder='passthrough')\n",
        "\n",
        "# Apply the ColumnTransformer to the input data\n",
        "x = preprocessor.fit_transform(x)\n"
      ],
      "metadata": {
        "id": "ob_W_52yLFVY"
      },
      "execution_count": 24,
      "outputs": []
    },
    {
      "cell_type": "markdown",
      "source": [
        "Data Visualization and Analysis of Cleaned Data"
      ],
      "metadata": {
        "id": "TchaQO2zNN55"
      }
    },
    {
      "cell_type": "code",
      "source": [
        "# Plot the distribution of the loan amount\n",
        "sns.histplot(data=df, x='Loan_Amount', kde=True)\n",
        "plt.show()\n",
        "\n",
        "# Plot the correlation matrix of the variables\n",
        "sns.heatmap(df.corr(), annot=True, cmap='coolwarm')\n",
        "plt.show()\n"
      ],
      "metadata": {
        "colab": {
          "base_uri": "https://localhost:8080/",
          "height": 603
        },
        "id": "iY38wsIuNGCu",
        "outputId": "00479433-0839-4928-f8d1-44e86c856b4b"
      },
      "execution_count": 25,
      "outputs": [
        {
          "output_type": "display_data",
          "data": {
            "text/plain": [
              "<Figure size 432x288 with 1 Axes>"
            ],
            "image/png": "[encoded data removed]"
          },
          "metadata": {
            "needs_background": "light"
          }
        },
        {
          "output_type": "display_data",
          "data": {
            "text/plain": [
              "<Figure size 432x288 with 2 Axes>"
            ],
            "image/png": "[encoded data removed]"
          },
          "metadata": {
            "needs_background": "light"
          }
        }
      ]
    },
    {
      "cell_type": "markdown",
      "source": [
        "Model Building"
      ],
      "metadata": {
        "id": "X9smjPDlNoiQ"
      }
    },
    {
      "cell_type": "code",
      "source": [
        "from sklearn.linear_model import LogisticRegression\n",
        "from sklearn.ensemble import RandomForestClassifier\n",
        "\n",
        "# Build a logistic regression model\n",
        "lr_model = LogisticRegression()\n",
        "\n",
        "# Build a random forest model\n",
        "rf_model = RandomForestClassifier()"
      ],
      "metadata": {
        "id": "edAIFi-eNtSn"
      },
      "execution_count": 26,
      "outputs": []
    },
    {
      "cell_type": "markdown",
      "source": [
        "Model Training and Evaluation"
      ],
      "metadata": {
        "id": "UFSuOcS4N1oe"
      }
    },
    {
      "cell_type": "code",
      "source": [
        "from sklearn.model_selection import train_test_split\n",
        "from sklearn.metrics import accuracy_score, precision_score, recall_score, f1_score\n",
        "\n",
        "# Split the data into training and testing sets\n",
        "x_train, x_test, y_train, y_test = train_test_split(x, y, test_size=0.4, random_state=42)\n",
        "\n",
        "# Train and evaluate the logistic regression model\n",
        "lr_model.fit(x_train, y_train)\n",
        "y_pred_lr = lr_model.predict(x_test)\n",
        "print('Logistic Regression Accuracy:', accuracy_score(y_test, y_pred_lr))\n",
        "print('Logistic Regression Precision:', precision_score(y_test, y_pred_lr, average='weighted'))\n",
        "print('Logistic Regression Recall:', recall_score(y_test, y_pred_lr, average='weighted'))\n",
        "print('Logistic Regression F1-score:', f1_score(y_test, y_pred_lr, average='weighted'))\n",
        "\n",
        "# Train and evaluate the random forest model\n",
        "rf_model.fit(x_train, y_train)\n",
        "y_pred_rf = rf_model.predict(x_test)\n",
        "print('Random Forest Accuracy:', accuracy_score(y_test, y_pred_rf))\n",
        "print('Random Forest Precision:', precision_score(y_test, y_pred_rf, average='weighted'))\n",
        "print('Random Forest Recall:', recall_score(y_test, y_pred_rf, average='weighted'))\n",
        "print('Random Forest F1-score:', f1_score(y_test, y_pred_rf, average='weighted'))\n"
      ],
      "metadata": {
        "colab": {
          "base_uri": "https://localhost:8080/"
        },
        "id": "q3wdfnK5Nzi1",
        "outputId": "885d09ae-fb04-4e0c-d9a6-7e5398010ed9"
      },
      "execution_count": 27,
      "outputs": [
        {
          "output_type": "stream",
          "name": "stderr",
          "text": [
            "/usr/local/lib/python3.9/dist-packages/sklearn/linear_model/_logistic.py:458: ConvergenceWarning: lbfgs failed to converge (status=1):\n",
            "STOP: TOTAL NO. of ITERATIONS REACHED LIMIT.\n",
            "\n",
            "Increase the number of iterations (max_iter) or scale the data as shown in:\n",
            "    https://scikit-learn.org/stable/modules/preprocessing.html\n",
            "Please also refer to the documentation for alternative solver options:\n",
            "    https://scikit-learn.org/stable/modules/linear_model.html#logistic-regression\n",
            "  n_iter_i = _check_optimize_result(\n",
            "/usr/local/lib/python3.9/dist-packages/sklearn/metrics/_classification.py:1344: UndefinedMetricWarning: Precision is ill-defined and being set to 0.0 in labels with no predicted samples. Use `zero_division` parameter to control this behavior.\n",
            "  _warn_prf(average, modifier, msg_start, len(result))\n"
          ]
        },
        {
          "output_type": "stream",
          "name": "stdout",
          "text": [
            "Logistic Regression Accuracy: 0.41064453125\n",
            "Logistic Regression Precision: 0.23791032136926327\n",
            "Logistic Regression Recall: 0.41064453125\n",
            "Logistic Regression F1-score: 0.24429126947103572\n",
            "Random Forest Accuracy: 0.73486328125\n",
            "Random Forest Precision: 0.7321524562277845\n",
            "Random Forest Recall: 0.73486328125\n",
            "Random Forest F1-score: 0.7323610466193495\n"
          ]
        }
      ]
    },
    {
      "cell_type": "code",
      "source": [
        "from sklearn.metrics import confusion_matrix\n",
        "\n",
        "y_pred = lr_model.predict(x_test)\n",
        "cm = confusion_matrix(y_test, y_pred)\n",
        "print(cm)\n",
        "\n",
        "plt.figure(figsize=(10, 7))\n",
        "sns.heatmap(cm, annot=True, fmt='g')\n",
        "plt.xlabel('Predicted')\n",
        "plt.ylabel('Actual')\n",
        "plt.show()"
      ],
      "metadata": {
        "colab": {
          "base_uri": "https://localhost:8080/",
          "height": 529
        },
        "id": "jXpWH9sZTDDw",
        "outputId": "8ffbd892-45b9-4803-ac80-66e4f9f37709"
      },
      "execution_count": 36,
      "outputs": [
        {
          "output_type": "stream",
          "name": "stdout",
          "text": [
            "[[  0   0   0  35   2]\n",
            " [  0   0   3 136   3]\n",
            " [  0   0   1 409   4]\n",
            " [  0   0   2 838   7]\n",
            " [  0   0   0 606   2]]\n"
          ]
        },
        {
          "output_type": "display_data",
          "data": {
            "text/plain": [
              "<Figure size 720x504 with 2 Axes>"
            ],
            "image/png": "[encoded data removed]"
          },
          "metadata": {
            "needs_background": "light"
          }
        }
      ]
    },
    {
      "cell_type": "markdown",
      "source": [
        "Hyperparameter Tuning\n",
        "\n",
        "\n",
        "\n"
      ],
      "metadata": {
        "id": "mdhoSCMya-_S"
      }
    },
    {
      "cell_type": "code",
      "source": [
        "from sklearn.model_selection import GridSearchCV\n",
        "\n",
        "# Define the hyperparameter grid for logistic regression\n",
        "lr_param_grid = {'C': [0.1, 1, 10]}\n",
        "\n",
        "# Define the hyperparameter grid for random forest\n",
        "rf_param_grid = {'n_estimators': [50, 100, 200], 'max_depth': [5, 10, 15]}\n",
        "\n",
        "# Tune the hyperparameters using grid search\n",
        "lr_grid_search = GridSearchCV(lr_model, lr_param_grid, cv=5)\n",
        "rf_grid_search = GridSearchCV(rf_model, rf_param_grid, cv=5)\n"
      ],
      "metadata": {
        "id": "9Df6fQG-6sTb"
      },
      "execution_count": 28,
      "outputs": []
    },
    {
      "cell_type": "markdown",
      "source": [
        "Prediction"
      ],
      "metadata": {
        "id": "IyyDbyeGcQJI"
      }
    },
    {
      "cell_type": "code",
      "source": [
        "# Make predictions on new data using the logistic regression model\n",
        "x_new = preprocessor.transform(df)\n",
        "y_pred_lr = lr_model.predict(x_new)\n",
        "\n",
        "# Make predictions on new data using the random forest model\n",
        "y_pred_rf = rf_model.predict(x_new)\n",
        "\n",
        "# Print the predictions\n",
        "print(\"Logistic Regression Predictions: \")\n",
        "print(y_pred_lr)\n",
        "\n",
        "print(\"Random Forest Predictions: \")\n",
        "print(y_pred_rf)"
      ],
      "metadata": {
        "id": "ZiU6lHSGOuit",
        "colab": {
          "base_uri": "https://localhost:8080/"
        },
        "outputId": "046a87e5-c7bb-4e09-cd7d-1e7885015357"
      },
      "execution_count": 32,
      "outputs": [
        {
          "output_type": "stream",
          "name": "stdout",
          "text": [
            "Logistic Regression Predictions: \n",
            "['Performing' 'Performing' 'Performing' ... 'Performing' 'Performing'\n",
            " 'Performing']\n",
            "Random Forest Predictions: \n",
            "['Performing' 'Performing' 'Performing' ... 'Sub Standard' 'Sub Standard'\n",
            " 'Sub Standard']\n"
          ]
        }
      ]
    },
    {
      "cell_type": "markdown",
      "source": [
        "Deployment"
      ],
      "metadata": {
        "id": "DQWgWGadW5hb"
      }
    },
    {
      "cell_type": "code",
      "source": [
        "import pickle\n",
        "\n",
        "# Save the logistic regression model\n",
        "with open('lr_model.pkl', 'wb') as file:\n",
        "    pickle.dump(lr_model, file)\n",
        "\n",
        "# Save the random forest model\n",
        "with open('rf_model.pkl', 'wb') as file:\n",
        "    pickle.dump(rf_model, file)\n"
      ],
      "metadata": {
        "id": "yAjotLbtPaLm"
      },
      "execution_count": 30,
      "outputs": []
    },
    {
      "cell_type": "code",
      "source": [
        "# Load the saved logistic regression model\n",
        "with open('lr_model.pkl', 'rb') as file:\n",
        "    lr_model = pickle.load(file)\n",
        "\n",
        "# Load the saved random forest model\n",
        "with open('rf_model.pkl', 'rb') as file:\n",
        "    rf_model = pickle.load(file)\n"
      ],
      "metadata": {
        "id": "OKHdLxBMPj8e"
      },
      "execution_count": 31,
      "outputs": []
    },
    {
      "cell_type": "markdown",
      "source": [
        "Summary\n",
        "\n",
        "The output  provided is the predicted loan performance for each application generated by both algorithms. The predicted loan performance is a categorical variable that can take on different values, such as \"Performing\", \"Sub Standard\", \"Default\", etc., depending on the loan's payment status.\n",
        "\n",
        "In the case of Logistic Regression, all the predicted loan performances are \"Performing\", indicating that the algorithm has predicted all the loan applications to be in a performing status. This means that according to the Logistic Regression model, all the loan applications are expected to be repaid on time.\n",
        "\n",
        "In contrast, the Random Forest model has predicted some loan applications to be in a \"Sub Standard\" category. This suggests that the Random Forest algorithm has identified some loan applications that may not be performing well and may be at risk of default.\n",
        "\n",
        "It is important to note that the accuracy and reliability of these predictions depend on the quality of the data and the machine learning algorithms used. Therefore, it is essential to evaluate the performance of the models using appropriate metrics and techniques and refine them as necessary."
      ],
      "metadata": {
        "id": "jAxMUxTLXiPq"
      }
    }
  ]
}